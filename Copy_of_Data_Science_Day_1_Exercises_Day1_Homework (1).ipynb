{
 "cells": [
  {
   "cell_type": "markdown",
   "metadata": {
    "id": "KdERlTpFuL5V"
   },
   "source": [
    "# Exercises"
   ]
  },
  {
   "cell_type": "markdown",
   "metadata": {
    "id": "to-gsrQyuL5Z"
   },
   "source": [
    "### #1 - Calculate the BMI (body mass index) on the two lists below using NDArrays..."
   ]
  },
  {
   "cell_type": "code",
   "execution_count": 5,
   "metadata": {
    "id": "iZlf9DzeuL5a"
   },
   "outputs": [
    {
     "name": "stdout",
     "output_type": "stream",
     "text": [
      "[16.24238605 17.21632653 18.12933942 18.98533951 19.78795271 20.54054054\n",
      " 21.24622222]\n"
     ]
    }
   ],
   "source": [
    "import numpy as np\n",
    "# formula = weight / (height**2) * 730\n",
    "# height = [69, 70, 71, 72, 73, 74, 75]\n",
    "# weight = [110, 120, 130, 140, 150, 160, 170]\n",
    "\n",
    "height = np.array([69, 70, 71, 72, 73, 74, 75])\n",
    "weight = np.array([110, 120, 130, 140, 150, 160, 170])\n",
    "\n",
    "bmi = weight / (height ** 2) * 703\n",
    "\n",
    "print(bmi)\n",
    "\n"
   ]
  },
  {
   "cell_type": "markdown",
   "metadata": {
    "id": "RSsT8w8ouL5b"
   },
   "source": [
    "### #2 - Create a function that will take in two parameters and will create a random matrix based off of those parameters. Extra: Have additional parameters taken in that allow the user to choose the shape and data type of the matrix."
   ]
  },
  {
   "cell_type": "code",
   "execution_count": 10,
   "metadata": {
    "id": "ygFvj0aeuL5b"
   },
   "outputs": [
    {
     "name": "stdout",
     "output_type": "stream",
     "text": [
      "[[0.76769244 0.03275305 0.84503331 0.33577375 0.92650187]\n",
      " [0.64223304 0.85020144 0.28284439 0.63512786 0.05409689]\n",
      " [0.33524069 0.81841569 0.38072373 0.68535801 0.53881594]\n",
      " [0.43055295 0.83695434 0.39301968 0.85935312 0.40259044]\n",
      " [0.54421649 0.91725023 0.63110182 0.55647579 0.84535038]]\n"
     ]
    }
   ],
   "source": [
    "def new_matrix(n_rows, n_cols):\n",
    "    return np.random.rand(n_rows, n_cols)\n",
    "\n",
    "matrix = new_matrix(5, 5)\n",
    "print(matrix)\n"
   ]
  },
  {
   "cell_type": "markdown",
   "metadata": {
    "id": "e5mP1UX9uL5c"
   },
   "source": [
    "### #3 - Extra: Open and load the data in the two text files that have the Boston Red Sox hitting data for the past seasons. Compare the difference in the two years by putting the data into an NDArray and running a differencial operation on it. The column to look for will be SLG.\n",
    "\n",
    "Your output should display which year (either 2017 or 2018) was a better year based on SLG"
   ]
  },
  {
   "cell_type": "code",
   "execution_count": 13,
   "metadata": {
    "id": "iAExC-SjuL5c"
   },
   "outputs": [],
   "source": [
    "import csv\n",
    "import numpy as np\n",
    "\n",
    "\n"
   ]
  },
  {
   "cell_type": "code",
   "execution_count": 24,
   "metadata": {
    "id": "P8Rwr8lmuL5e"
   },
   "outputs": [
    {
     "name": "stdout",
     "output_type": "stream",
     "text": [
      "['Rk' 'Pos' 'Name' 'Age' 'G' 'PA' 'AB' 'R' 'H' '2B' '3B' 'HR' 'RBI' 'SB'\n",
      " 'CS' 'BB' 'SO' 'BA' 'OBP' 'SLG' 'OPS' 'OPS+' 'TB' 'GDP' 'HBP' 'SH' 'SF'\n",
      " 'IBB']\n",
      "[['rk' 'i']\n",
      " ['pos' '|S25']\n",
      " ['name' '|S25']\n",
      " ['age' 'i']\n",
      " ['g' 'i']\n",
      " ['pa' 'i']\n",
      " ['ab' 'i']\n",
      " ['r' 'i']\n",
      " ['h' 'i']\n",
      " ['2b' 'i']\n",
      " ['3b' 'i']\n",
      " ['hr' 'i']\n",
      " ['rbi' 'i']\n",
      " ['sb' 'i']\n",
      " ['cs' 'i']\n",
      " ['bb' 'i']\n",
      " ['so' 'i']\n",
      " ['ba' 'f']\n",
      " ['obp' 'f']\n",
      " ['slg' 'f']\n",
      " ['ops' 'f']\n",
      " ['opsp' 'i']\n",
      " ['tb' 'i']\n",
      " ['gdp' 'i']\n",
      " ['hbp' 'i']\n",
      " ['sh' 'i']\n",
      " ['sf' 'i']\n",
      " ['ibb' 'i']]\n",
      "\n",
      " Average SLG 2017: 0.39334782374941785\n",
      "\n",
      " Average SLG 2018: 0.38750000335276125\n"
     ]
    }
   ],
   "source": [
    "FIELDS = ['Rk', 'Pos', 'Name', 'Age', 'G', 'PA', 'AB', 'R', 'H', '2B', '3B', 'HR', 'RBI', 'SB', 'CS', \n",
    "          'BB', 'SO', 'BA', 'OBP', 'SLG', 'OPS', 'OPS+', 'TB', 'GDP', 'HBP', 'SH', 'SF', 'IBB']\n",
    "\n",
    "DATATYPES = [('rk', 'i'), ('pos', '|S25'), ('name', '|S25'), ('age', 'i'), ('g', 'i'), ('pa', 'i'), ('ab', 'i'),\n",
    "                ('r', 'i'), ('h', 'i'), ('2b', 'i'), ('3b', 'i'), ('hr', 'i'), ('rbi', 'i'), ('sb', 'i'), ('cs', 'i'),\n",
    "                ('bb', 'i'), ('so', 'i'), ('ba', 'f'), ('obp', 'f'), ('slg', 'f'), ('ops', 'f'), ('opsp', 'i'),\n",
    "                ('tb', 'i'), ('gdp', 'i'), ('hbp', 'i'), ('sh', 'i'), ('sf', 'i'), ('ibb', 'i')]\n",
    "\n",
    "#Use this function to actually open the data inside of a NDArray\n",
    "arr1 = np.array(FIELDS)\n",
    "print(arr1)\n",
    "arr2 = np.array(DATATYPES)\n",
    "print(arr2)\n",
    "\n",
    "def load_data(filename, d = ','):\n",
    "    data = np.genfromtxt(filename,delimiter = d, skip_header = 1,\n",
    "                        usecols = np.arange(0,24),invalid_raise=False,\n",
    "                        names = FIELDS, dtype = DATATYPES)\n",
    "    return data\n",
    "\n",
    "bs2017 = load_data('../Downloads/redsox_2017_hitting.txt')\n",
    "bs2018 = load_data('../Downloads/redsox_2018_hitting.txt')\n",
    "\n",
    "length_2017 = len(bs2017['SLG'])\n",
    "\n",
    "avg_slg2017 = sum(bs2017['SLG']) / length_2017\n",
    "print(f'\\n Average SLG 2017: {avg_slg2017}')\n",
    "\n",
    "length_2018 = len(bs2018['SLG'])\n",
    "avg_slg2018 = sum(bs2018['SLG']) / length_2018\n",
    "print(f'\\n Average SLG 2018: {avg_slg2018}')\n",
    "\n",
    "# I couldn't figure out how to use ndarray, but I wanted to at least take a shot at comparing the data\n",
    "# the best way I knew how and this is what I was able to come up with"
   ]
  }
 ],
 "metadata": {
  "colab": {
   "name": "Copy of Data_Science_Day_1_Exercises-Day1- Homework.ipynb",
   "provenance": []
  },
  "kernelspec": {
   "display_name": "Python 3 (ipykernel)",
   "language": "python",
   "name": "python3"
  },
  "language_info": {
   "codemirror_mode": {
    "name": "ipython",
    "version": 3
   },
   "file_extension": ".py",
   "mimetype": "text/x-python",
   "name": "python",
   "nbconvert_exporter": "python",
   "pygments_lexer": "ipython3",
   "version": "3.9.13"
  }
 },
 "nbformat": 4,
 "nbformat_minor": 1
}
